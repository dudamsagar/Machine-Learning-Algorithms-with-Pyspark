{
 "cells": [
  {
   "cell_type": "markdown",
   "metadata": {},
   "source": [
    "## Understanding PySpark Ecosystem\n",
    "#### Agenda\n",
    "<hr>\n",
    "* Why Machine Learning using PySpark ?\n",
    "* Big Data \n",
    "* Hadoop \n",
    "* Spark\n",
    "* PySpark\n",
    "\n",
    "<hr>"
   ]
  },
  {
   "cell_type": "markdown",
   "metadata": {},
   "source": [
    "### 1. Why Machine Learning using PySpark ?\n",
    "<hr>\n",
    "* Traditional machine learning libraries like scikit don't scale more than a machine.\n",
    "* Using PySpark, we can achieve distributed machine learning without a lot change in APIs.\n",
    "* Dataframes in PySpark is distributed compared to dataframe in pandas"
   ]
  },
  {
   "cell_type": "markdown",
   "metadata": {},
   "source": [
    "### 2. Big Data\n",
    "<hr>\n",
    "\n",
    "* Often define by 4 Vs'\n",
    "* Volume \n",
    "* Variety \n",
    "* Velocity \n",
    "* Veracity\n",
    "* Most of the organizations generate big data. \n",
    "* And, traditional systems are not capable of storing them or computing on them."
   ]
  },
  {
   "cell_type": "markdown",
   "metadata": {},
   "source": [
    "### 3. Hadoop\n",
    "<hr>\n",
    "\n",
    "\n",
    "* Distributed storage & computing framework.\n",
    "* Consist of HDFS, MapReduce & YARN.\n",
    "* HDFS  can be understood as distributed storage framework.\n",
    "* YARN is distributed OS.\n",
    "* MapReduce can be understood as distributed application."
   ]
  },
  {
   "cell_type": "markdown",
   "metadata": {},
   "source": [
    "### 4. Spark\n",
    "<hr>\n",
    "\n",
    "* Spark is an easy alternative to MapReduce.\n",
    "* MapReduce is difficult to write & manage.\n",
    "* Spark does in-memory computation & thus 10-50X faster than MapReduce\n",
    "* Internally built using Scala\n",
    "* Extremely difficult to develop machine learning applications on hadoop"
   ]
  },
  {
   "cell_type": "markdown",
   "metadata": {},
   "source": [
    "### 5. PySpark\n",
    "\n",
    "<hr>\n",
    "\n",
    "* Many of data Processing & Machine Learning developers were using Python as their primary language.\n",
    "* Data volume & velocity changed. Traditional systems were not sufficient enough.\n",
    "* PySpark allows easy porting of code written in pandas & scikit to be ported to Spark for taking data to large scale processing.\n",
    "* SQL code can also be ported easily to PySpark.\n",
    "* PySpark was not stable with 1.X rel but very well adopted in 2.X rel across various companies"
   ]
  },
  {
   "cell_type": "markdown",
   "metadata": {},
   "source": [
    "### 6. Installation Guide\n",
    "* Signup https://databricks.com/try-databricks at community edition"
   ]
  },
  {
   "cell_type": "code",
   "execution_count": null,
   "metadata": {},
   "outputs": [],
   "source": []
  }
 ],
 "metadata": {
  "kernelspec": {
   "display_name": "Python 3",
   "language": "python",
   "name": "python3"
  },
  "language_info": {
   "codemirror_mode": {
    "name": "ipython",
    "version": 3
   },
   "file_extension": ".py",
   "mimetype": "text/x-python",
   "name": "python",
   "nbconvert_exporter": "python",
   "pygments_lexer": "ipython3",
   "version": "3.6.4"
  },
  "name": "Understanding PySpark Ecosystem",
  "notebookId": 248389034220085
 },
 "nbformat": 4,
 "nbformat_minor": 2
}
